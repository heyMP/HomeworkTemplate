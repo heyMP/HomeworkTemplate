{
  "cells": [
    {
      "cell_type": "markdown",
      "source": [
        "# Homework Assignmnet: Template\n\n## Exercise 1:  Write an identity function\n1. Create a function named identity_function_int that takes one integer as input and returns the same integer. \n2. Create a function named identity_function_float64 that takes one 64-bit floating point number as input and returns the same value as a 64-bit floating point number.\n3. Create a function named identity_function_real that takes any real number as input and return the same real number.\n\nTo help you get started, the solution to part 1 is included below."
      ],
      "metadata": {}
    },
    {
      "outputs": [],
      "cell_type": "code",
      "source": [
        "identity_function_int(x::Integer) = x"
      ],
      "metadata": {},
      "execution_count": null
    },
    {
      "outputs": [],
      "cell_type": "code",
      "source": [
        "identity_function_float64(x::Float64) = x"
      ],
      "metadata": {},
      "execution_count": null
    },
    {
      "outputs": [],
      "cell_type": "code",
      "source": [
        "identity_function_real(x::Real) = x"
      ],
      "metadata": {},
      "execution_count": null
    },
    {
      "outputs": [],
      "cell_type": "code",
      "source": [
        ""
      ],
      "metadata": {},
      "execution_count": null
    }
  ],
  "nbformat_minor": 2,
  "metadata": {
    "language_info": {
      "file_extension": ".jl",
      "mimetype": "application/julia",
      "name": "julia",
      "version": "1.0.2"
    },
    "kernelspec": {
      "name": "julia-1.0",
      "display_name": "Julia 1.0.2",
      "language": "julia"
    }
  },
  "nbformat": 4
}
